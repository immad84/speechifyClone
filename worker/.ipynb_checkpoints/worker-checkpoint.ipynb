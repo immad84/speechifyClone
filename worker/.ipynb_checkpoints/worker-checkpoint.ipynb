{
 "cells": [
  {
   "cell_type": "code",
   "execution_count": 5,
   "id": "14335357-26df-40eb-be73-8fee5c11ac4f",
   "metadata": {},
   "outputs": [],
   "source": [
    "import redis\n",
    "import torch\n",
    "import json\n",
    "import time\n",
    "import uuid\n",
    "from gtts import gTTS\n",
    "from TTS.api import TTS\n",
    "import os\n",
    "from pathlib import Path\n",
    "from IPython.display import Audio, display"
   ]
  },
  {
   "cell_type": "code",
   "execution_count": 2,
   "id": "ddd20421-30a1-4b8a-9f75-2cd671904cf4",
   "metadata": {},
   "outputs": [],
   "source": [
    "r = redis.Redis()"
   ]
  },
  {
   "cell_type": "code",
   "execution_count": 3,
   "id": "e8a74204-9eaf-4728-9920-e6b6e404703e",
   "metadata": {},
   "outputs": [
    {
     "name": "stdout",
     "output_type": "stream",
     "text": [
      "Worker started. Listening for tasks on Redis stream 'tts_stream'...\n"
     ]
    }
   ],
   "source": [
    "audio_dir = Path(\"../public/audio\")\n",
    "audio_dir.mkdir(parents=True, exist_ok=True)\n",
    "\n",
    "print(\"Worker started. Listening for tasks on Redis stream 'tts_stream'...\")"
   ]
  },
  {
   "cell_type": "code",
   "execution_count": null,
   "id": "15252691-e275-4979-b85a-66ea666ce128",
   "metadata": {},
   "outputs": [
    {
     "name": "stdout",
     "output_type": "stream",
     "text": [
      "Received Task 7bed5b78-50a7-4efc-bcd3-006fab143a5e: 'Hello, welcome to our platform.'\n",
      " > tts_models/en/ek1/tacotron2 is already downloaded.\n",
      "Error processing task 7bed5b78-50a7-4efc-bcd3-006fab143a5e:  [!] Model file not found in the output path\n",
      "Received Task 34383236-7450-4889-9b82-0ae487a937a4: 'Hello, welcome to our platform.'\n",
      " > tts_models/en/ek1/tacotron2 is already downloaded.\n",
      "Error processing task 34383236-7450-4889-9b82-0ae487a937a4:  [!] Model file not found in the output path\n",
      "Received Task cd56fd85-3bf4-4ca2-a2a2-c8b990ce2d8e: 'Hello, welcome to our platform.'\n",
      " > tts_models/en/ek1/tacotron2 is already downloaded.\n",
      "Error processing task cd56fd85-3bf4-4ca2-a2a2-c8b990ce2d8e:  [!] Model file not found in the output path\n",
      "Received Task af88f9f1-e0a6-439a-acf6-6b8157212dc7: 'Hello, welcome to our platform.'\n",
      " > tts_models/en/ek1/tacotron2 is already downloaded.\n",
      "Error processing task af88f9f1-e0a6-439a-acf6-6b8157212dc7:  [!] Model file not found in the output path\n",
      "Received Task 87ed6e0d-f362-4731-afd0-8d02879985ac: 'Hello, welcome to our platform.'\n",
      " > tts_models/en/ek1/tacotron2 is already downloaded.\n",
      "Error processing task 87ed6e0d-f362-4731-afd0-8d02879985ac:  [!] Model file not found in the output path\n"
     ]
    }
   ],
   "source": [
    "last_id = '0'\n",
    "device = 'cuda' if torch.cuda.is_available() else 'cpu'\n",
    "while True:\n",
    "    try:\n",
    "        entries = r.xread({'tts_stream':last_id}, block=0, count=1)\n",
    "        for stream, messages in entries:\n",
    "            for msg_id, message in messages:\n",
    "                last_id = msg_id.decode()\n",
    "                task_id = message[b'task_id'].decode()\n",
    "                text = message[b'text'].decode()\n",
    "                model = message[b'model'].decode()\n",
    "                language = message[b'language'].decode()\n",
    "\n",
    "                print(f\"Received Task {task_id}: '{text}'\")\n",
    "\n",
    "                r.hset(f'tts_status:{task_id}', mapping={\n",
    "                    'status': 'processing'\n",
    "                })\n",
    "\n",
    "                try: \n",
    "                    filename = f\"{task_id}.mp3\"\n",
    "                    filepath = audio_dir / filename\n",
    "                    tts = TTS(model_name='tts_models/en/ljspeech/glow-tts').to(device)\n",
    "                    tts.tts_to_file(text=text, file_path=str(filepath))\n",
    "                    r.hset(f'tts_status:{task_id}', mapping={\n",
    "                        'status': 'done',\n",
    "                        'file': f'/audio/{filename}'\n",
    "                    })\n",
    "                    print(f\"Task {task_id} done. File: {filepath}\")\n",
    "                    display(Audio(str(filepath)))\n",
    "                except Exception as e:\n",
    "                    r.hset(f'tts_status:{task_id}', mapping={\n",
    "                        'status': 'error',\n",
    "                        'message': str(e)\n",
    "                    })\n",
    "                    print(f\"Error processing task {task_id}: {e}\")\n",
    "    except KeyboardInterrupt:\n",
    "        print(\"worker stopped\")\n",
    "        break"
   ]
  },
  {
   "cell_type": "code",
   "execution_count": null,
   "id": "614f9b16-9867-428f-a5c2-ecdeaffb8d7d",
   "metadata": {},
   "outputs": [],
   "source": []
  }
 ],
 "metadata": {
  "kernelspec": {
   "display_name": "Python 3 (ipykernel)",
   "language": "python",
   "name": "python3"
  },
  "language_info": {
   "codemirror_mode": {
    "name": "ipython",
    "version": 3
   },
   "file_extension": ".py",
   "mimetype": "text/x-python",
   "name": "python",
   "nbconvert_exporter": "python",
   "pygments_lexer": "ipython3",
   "version": "3.10.16"
  }
 },
 "nbformat": 4,
 "nbformat_minor": 5
}
